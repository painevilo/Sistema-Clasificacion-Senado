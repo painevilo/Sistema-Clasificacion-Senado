{
  "nbformat": 4,
  "nbformat_minor": 0,
  "metadata": {
    "colab": {
      "name": "2.7.2 SVM_clasificacion.ipynb",
      "provenance": [],
      "collapsed_sections": []
    },
    "kernelspec": {
      "name": "python3",
      "display_name": "Python 3"
    }
  },
  "cells": [
    {
      "cell_type": "markdown",
      "metadata": {
        "id": "4VCWyA6XKftY"
      },
      "source": [
        "## Intoducción\n",
        "\n",
        "En este ejercicio haremos una ejecución muy simple de SVM con reconocimiento de imágenes.\n",
        "\n",
        "Para ello vamos a usar un conjunto de datos preexistentes  que vienen con la instalación de Scikit-Learn.\n",
        "\n",
        "Uno de los conjuntos de datos son los dígitos, contiene un conjunto de muestras ya estructuradas y etiquetadas que contiene información de píxeles para números que podemos usar para entrenamiento y pruebas."
      ]
    },
    {
      "cell_type": "markdown",
      "metadata": {
        "id": "0bJ1z4Bxo7aK"
      },
      "source": [
        "## Importanto Bibliotecas\n",
        "\n",
        "Utilizaremos las siguientes bibliotecas (recuerda que previamente debes tener disponible tu biblioteca de scikit-learn).\n",
        "\n",
        "Esto, con la instrucción: **pip install scikit-learn**\n",
        "\n"
      ]
    },
    {
      "cell_type": "code",
      "metadata": {
        "id": "rLoYkc1Ro7bB"
      },
      "source": [
        "import numpy\n",
        "import scipy\n",
        "import matplotlib.pyplot as plt\n",
        "from sklearn import datasets\n",
        "from sklearn import svm\n",
        "\n",
        "digits = datasets.load_digits()\n"
      ],
      "execution_count": 1,
      "outputs": []
    },
    {
      "cell_type": "markdown",
      "metadata": {
        "id": "1e17ox5YXPX8"
      },
      "source": [
        "## Revisemos los datos\n",
        "\n",
        "digits.data es un matriz de datos que posee 10 clases, números del 0 al 9, con app 180 muestras por cada clase. Las muestras totales son exactamente 1797. Cada número se representa con 64 atributos que varían entre 0 y 16.\n",
        "\n",
        "\n"
      ]
    },
    {
      "cell_type": "code",
      "metadata": {
        "id": "wAmRUoilQYcS"
      },
      "source": [
        "print(digits.data)"
      ],
      "execution_count": null,
      "outputs": []
    },
    {
      "cell_type": "code",
      "source": [
        "print(digits.data.shape)"
      ],
      "metadata": {
        "id": "rgo1vj5VNLns"
      },
      "execution_count": null,
      "outputs": []
    },
    {
      "cell_type": "markdown",
      "metadata": {
        "id": "0zzAnk16Y4AP"
      },
      "source": [
        "Cada número es, en realidad una matriz 2D. \n",
        "\n",
        "Así, para cada número se guarda una imagen en una matriz de 8x8..."
      ]
    },
    {
      "cell_type": "code",
      "metadata": {
        "id": "O0MDrNAjZGF5"
      },
      "source": [
        "digits.images[11]"
      ],
      "execution_count": null,
      "outputs": []
    },
    {
      "cell_type": "markdown",
      "source": [
        "La imagen la podemos ver con ..."
      ],
      "metadata": {
        "id": "BktO6ZxxVYkM"
      }
    },
    {
      "cell_type": "code",
      "source": [
        "plt.gray()\n",
        ">>> plt.matshow(digits.images[4])"
      ],
      "metadata": {
        "id": "sLYKofRXVU85"
      },
      "execution_count": null,
      "outputs": []
    },
    {
      "cell_type": "markdown",
      "metadata": {
        "id": "YGF6U9edZLiE"
      },
      "source": [
        "digits.target es la etiqueta que corresponde al número de cada imagen (número entre 0 y 9)"
      ]
    },
    {
      "cell_type": "code",
      "metadata": {
        "id": "TzVr5iAQQb-r"
      },
      "source": [
        "print(digits.target[4])"
      ],
      "execution_count": null,
      "outputs": []
    },
    {
      "cell_type": "markdown",
      "metadata": {
        "id": "R3DxY_6gXqjt"
      },
      "source": [
        "## Clasificación\n",
        "\n",
        "En este caso, la tarea es predecir, dada una imagen, qué dígito representa. \n",
        "\n",
        "Definiremos los hiperparámetros para el SVM.\n",
        "\n",
        "\n",
        "\n"
      ]
    },
    {
      "cell_type": "code",
      "metadata": {
        "id": "IMREu6ZNQkNa"
      },
      "source": [
        "clf = svm.SVC(gamma=0.001, C=100)"
      ],
      "execution_count": 14,
      "outputs": []
    },
    {
      "cell_type": "markdown",
      "metadata": {
        "id": "j9qb0NJtaAHJ"
      },
      "source": [
        "## Entrenamiento\n",
        "\n",
        "Luego entrenamos el modelo"
      ]
    },
    {
      "cell_type": "code",
      "metadata": {
        "id": "8uyWsZYrQpck"
      },
      "source": [
        "#X,y = digits.data[:-10], digits.target[:-10]\n",
        "X,y = digits.data, digits.target\n",
        "clf.fit(X,y)"
      ],
      "execution_count": null,
      "outputs": []
    },
    {
      "cell_type": "markdown",
      "metadata": {
        "id": "AmKB5RA_aIDy"
      },
      "source": [
        "Y ahora haremos la Predicción.\n",
        "\n",
        "La siguiente instrucción predicirá lo que es la imagen de la posición 28 en el último elemento."
      ]
    },
    {
      "cell_type": "code",
      "metadata": {
        "id": "bbZVZTJUSEus"
      },
      "source": [
        "print('Predicción: ',clf.predict([digits.data[-28]]))\n",
        "#print('Predicción: ',clf.predict([digits.data[1769]]))"
      ],
      "execution_count": null,
      "outputs": []
    },
    {
      "cell_type": "markdown",
      "metadata": {
        "id": "OMYdbY8Pafj5"
      },
      "source": [
        "Desplegamos la imagen y verificamos."
      ]
    },
    {
      "cell_type": "code",
      "metadata": {
        "id": "5LUTaIKsTO-W"
      },
      "source": [
        "plt.imshow(digits.images[-28], cmap=plt.cm.gray_r, interpolation='nearest')\n",
        "#plt.imshow(digits.images[1769], cmap=plt.cm.gray_r, interpolation='nearest')\n",
        "plt.show()"
      ],
      "execution_count": null,
      "outputs": []
    },
    {
      "cell_type": "markdown",
      "metadata": {
        "id": "wYE5wtHPapb5"
      },
      "source": [
        "Hagan más pruebas.\n",
        "\n",
        "Debes notar que la velocidad sube con gamma más grande, pero la precisión disminuye. \n",
        "\n",
        "Qué Ocurrirá si disminuye el valor de gamma (hagan esto por factores de 10)?"
      ]
    },
    {
      "cell_type": "markdown",
      "source": [
        "# Revisemos el modelo completo"
      ],
      "metadata": {
        "id": "ydVZLw3LbDTn"
      }
    },
    {
      "cell_type": "code",
      "source": [
        "from sklearn.model_selection import train_test_split\n",
        "# División de los datos en train y test\n",
        "# ==============================================================================\n",
        "X = digits.data\n",
        "y = digits.target\n",
        "\n",
        "X_train, X_test, y_train, y_test = train_test_split(\n",
        "                                        X,\n",
        "                                        y,\n",
        "                                        train_size   = 0.8,\n",
        "                                        random_state = 1234,\n",
        "                                        shuffle      = True\n",
        "                                    )"
      ],
      "metadata": {
        "id": "Ou8_8efOWMX5"
      },
      "execution_count": 70,
      "outputs": []
    },
    {
      "cell_type": "code",
      "source": [
        "clf = svm.SVC(gamma=0.001, C=100)\n",
        "clf.fit(X,y)"
      ],
      "metadata": {
        "id": "uuI1kegHX41F"
      },
      "execution_count": null,
      "outputs": []
    },
    {
      "cell_type": "code",
      "source": [
        "# Predicciones test\n",
        "# ==============================================================================\n",
        "predicciones = clf.predict(X_test)\n",
        "predicciones"
      ],
      "metadata": {
        "id": "Fchd6_SCYCmv"
      },
      "execution_count": null,
      "outputs": []
    },
    {
      "cell_type": "code",
      "source": [
        "from sklearn.metrics import accuracy_score\n",
        "# Accuracy de test del modelo \n",
        "# ==============================================================================\n",
        "accuracy = accuracy_score(\n",
        "            y_true    = y_test,\n",
        "            y_pred    = predicciones,\n",
        "            normalize = True\n",
        "           )\n",
        "print(\"\")\n",
        "print(f\"El accuracy de test es: {100*accuracy}%\")"
      ],
      "metadata": {
        "id": "bGJsm2geYPrH"
      },
      "execution_count": null,
      "outputs": []
    },
    {
      "cell_type": "code",
      "source": [
        "import pandas as pd\n",
        "# Matriz de confusión de las predicciones de test\n",
        "# ==============================================================================\n",
        "confusion_matrix = pd.crosstab(\n",
        "    y_test.ravel(),\n",
        "    predicciones,\n",
        "    rownames=['Real'],\n",
        "    colnames=['Predicción']\n",
        ")\n",
        "confusion_matrix"
      ],
      "metadata": {
        "id": "XMofri4FYzdi"
      },
      "execution_count": null,
      "outputs": []
    }
  ]
}